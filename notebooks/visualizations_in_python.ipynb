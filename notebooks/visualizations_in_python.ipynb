{
 "cells": [
  {
   "cell_type": "markdown",
   "metadata": {},
   "source": [
    "# Visualizations in Python\n",
    "\n",
    "This notebook will teach you how to explore data sets by using visualization tools in Python. It uses the Titanic data set that contains information on 891 of the passengers that was aboard the ill-fated ship \"Titanic\"."
   ]
  },
  {
   "cell_type": "code",
   "execution_count": 3,
   "metadata": {},
   "outputs": [],
   "source": [
    "# Required libraries\n",
    "import numpy as np\n",
    "import pandas as pd\n",
    "import matplotlib.pyplot as plt"
   ]
  },
  {
   "cell_type": "code",
   "execution_count": 4,
   "metadata": {},
   "outputs": [
    {
     "data": {
      "text/html": [
       "<div>\n",
       "<style scoped>\n",
       "    .dataframe tbody tr th:only-of-type {\n",
       "        vertical-align: middle;\n",
       "    }\n",
       "\n",
       "    .dataframe tbody tr th {\n",
       "        vertical-align: top;\n",
       "    }\n",
       "\n",
       "    .dataframe thead th {\n",
       "        text-align: right;\n",
       "    }\n",
       "</style>\n",
       "<table border=\"1\" class=\"dataframe\">\n",
       "  <thead>\n",
       "    <tr style=\"text-align: right;\">\n",
       "      <th></th>\n",
       "      <th>PassengerId</th>\n",
       "      <th>Survived</th>\n",
       "      <th>Pclass</th>\n",
       "      <th>Name</th>\n",
       "      <th>Sex</th>\n",
       "      <th>Age</th>\n",
       "      <th>SibSp</th>\n",
       "      <th>Parch</th>\n",
       "      <th>Ticket</th>\n",
       "      <th>Fare</th>\n",
       "      <th>Cabin</th>\n",
       "      <th>Embarked</th>\n",
       "    </tr>\n",
       "  </thead>\n",
       "  <tbody>\n",
       "    <tr>\n",
       "      <th>0</th>\n",
       "      <td>1</td>\n",
       "      <td>0</td>\n",
       "      <td>3</td>\n",
       "      <td>Braund, Mr. Owen Harris</td>\n",
       "      <td>male</td>\n",
       "      <td>22.0</td>\n",
       "      <td>1</td>\n",
       "      <td>0</td>\n",
       "      <td>A/5 21171</td>\n",
       "      <td>7.2500</td>\n",
       "      <td>NaN</td>\n",
       "      <td>S</td>\n",
       "    </tr>\n",
       "    <tr>\n",
       "      <th>1</th>\n",
       "      <td>2</td>\n",
       "      <td>1</td>\n",
       "      <td>1</td>\n",
       "      <td>Cumings, Mrs. John Bradley (Florence Briggs Th...</td>\n",
       "      <td>female</td>\n",
       "      <td>38.0</td>\n",
       "      <td>1</td>\n",
       "      <td>0</td>\n",
       "      <td>PC 17599</td>\n",
       "      <td>71.2833</td>\n",
       "      <td>C85</td>\n",
       "      <td>C</td>\n",
       "    </tr>\n",
       "    <tr>\n",
       "      <th>2</th>\n",
       "      <td>3</td>\n",
       "      <td>1</td>\n",
       "      <td>3</td>\n",
       "      <td>Heikkinen, Miss. Laina</td>\n",
       "      <td>female</td>\n",
       "      <td>26.0</td>\n",
       "      <td>0</td>\n",
       "      <td>0</td>\n",
       "      <td>STON/O2. 3101282</td>\n",
       "      <td>7.9250</td>\n",
       "      <td>NaN</td>\n",
       "      <td>S</td>\n",
       "    </tr>\n",
       "    <tr>\n",
       "      <th>3</th>\n",
       "      <td>4</td>\n",
       "      <td>1</td>\n",
       "      <td>1</td>\n",
       "      <td>Futrelle, Mrs. Jacques Heath (Lily May Peel)</td>\n",
       "      <td>female</td>\n",
       "      <td>35.0</td>\n",
       "      <td>1</td>\n",
       "      <td>0</td>\n",
       "      <td>113803</td>\n",
       "      <td>53.1000</td>\n",
       "      <td>C123</td>\n",
       "      <td>S</td>\n",
       "    </tr>\n",
       "    <tr>\n",
       "      <th>4</th>\n",
       "      <td>5</td>\n",
       "      <td>0</td>\n",
       "      <td>3</td>\n",
       "      <td>Allen, Mr. William Henry</td>\n",
       "      <td>male</td>\n",
       "      <td>35.0</td>\n",
       "      <td>0</td>\n",
       "      <td>0</td>\n",
       "      <td>373450</td>\n",
       "      <td>8.0500</td>\n",
       "      <td>NaN</td>\n",
       "      <td>S</td>\n",
       "    </tr>\n",
       "    <tr>\n",
       "      <th>...</th>\n",
       "      <td>...</td>\n",
       "      <td>...</td>\n",
       "      <td>...</td>\n",
       "      <td>...</td>\n",
       "      <td>...</td>\n",
       "      <td>...</td>\n",
       "      <td>...</td>\n",
       "      <td>...</td>\n",
       "      <td>...</td>\n",
       "      <td>...</td>\n",
       "      <td>...</td>\n",
       "      <td>...</td>\n",
       "    </tr>\n",
       "    <tr>\n",
       "      <th>886</th>\n",
       "      <td>887</td>\n",
       "      <td>0</td>\n",
       "      <td>2</td>\n",
       "      <td>Montvila, Rev. Juozas</td>\n",
       "      <td>male</td>\n",
       "      <td>27.0</td>\n",
       "      <td>0</td>\n",
       "      <td>0</td>\n",
       "      <td>211536</td>\n",
       "      <td>13.0000</td>\n",
       "      <td>NaN</td>\n",
       "      <td>S</td>\n",
       "    </tr>\n",
       "    <tr>\n",
       "      <th>887</th>\n",
       "      <td>888</td>\n",
       "      <td>1</td>\n",
       "      <td>1</td>\n",
       "      <td>Graham, Miss. Margaret Edith</td>\n",
       "      <td>female</td>\n",
       "      <td>19.0</td>\n",
       "      <td>0</td>\n",
       "      <td>0</td>\n",
       "      <td>112053</td>\n",
       "      <td>30.0000</td>\n",
       "      <td>B42</td>\n",
       "      <td>S</td>\n",
       "    </tr>\n",
       "    <tr>\n",
       "      <th>888</th>\n",
       "      <td>889</td>\n",
       "      <td>0</td>\n",
       "      <td>3</td>\n",
       "      <td>Johnston, Miss. Catherine Helen \"Carrie\"</td>\n",
       "      <td>female</td>\n",
       "      <td>NaN</td>\n",
       "      <td>1</td>\n",
       "      <td>2</td>\n",
       "      <td>W./C. 6607</td>\n",
       "      <td>23.4500</td>\n",
       "      <td>NaN</td>\n",
       "      <td>S</td>\n",
       "    </tr>\n",
       "    <tr>\n",
       "      <th>889</th>\n",
       "      <td>890</td>\n",
       "      <td>1</td>\n",
       "      <td>1</td>\n",
       "      <td>Behr, Mr. Karl Howell</td>\n",
       "      <td>male</td>\n",
       "      <td>26.0</td>\n",
       "      <td>0</td>\n",
       "      <td>0</td>\n",
       "      <td>111369</td>\n",
       "      <td>30.0000</td>\n",
       "      <td>C148</td>\n",
       "      <td>C</td>\n",
       "    </tr>\n",
       "    <tr>\n",
       "      <th>890</th>\n",
       "      <td>891</td>\n",
       "      <td>0</td>\n",
       "      <td>3</td>\n",
       "      <td>Dooley, Mr. Patrick</td>\n",
       "      <td>male</td>\n",
       "      <td>32.0</td>\n",
       "      <td>0</td>\n",
       "      <td>0</td>\n",
       "      <td>370376</td>\n",
       "      <td>7.7500</td>\n",
       "      <td>NaN</td>\n",
       "      <td>Q</td>\n",
       "    </tr>\n",
       "  </tbody>\n",
       "</table>\n",
       "<p>891 rows × 12 columns</p>\n",
       "</div>"
      ],
      "text/plain": [
       "     PassengerId  Survived  Pclass  \\\n",
       "0              1         0       3   \n",
       "1              2         1       1   \n",
       "2              3         1       3   \n",
       "3              4         1       1   \n",
       "4              5         0       3   \n",
       "..           ...       ...     ...   \n",
       "886          887         0       2   \n",
       "887          888         1       1   \n",
       "888          889         0       3   \n",
       "889          890         1       1   \n",
       "890          891         0       3   \n",
       "\n",
       "                                                  Name     Sex   Age  SibSp  \\\n",
       "0                              Braund, Mr. Owen Harris    male  22.0      1   \n",
       "1    Cumings, Mrs. John Bradley (Florence Briggs Th...  female  38.0      1   \n",
       "2                               Heikkinen, Miss. Laina  female  26.0      0   \n",
       "3         Futrelle, Mrs. Jacques Heath (Lily May Peel)  female  35.0      1   \n",
       "4                             Allen, Mr. William Henry    male  35.0      0   \n",
       "..                                                 ...     ...   ...    ...   \n",
       "886                              Montvila, Rev. Juozas    male  27.0      0   \n",
       "887                       Graham, Miss. Margaret Edith  female  19.0      0   \n",
       "888           Johnston, Miss. Catherine Helen \"Carrie\"  female   NaN      1   \n",
       "889                              Behr, Mr. Karl Howell    male  26.0      0   \n",
       "890                                Dooley, Mr. Patrick    male  32.0      0   \n",
       "\n",
       "     Parch            Ticket     Fare Cabin Embarked  \n",
       "0        0         A/5 21171   7.2500   NaN        S  \n",
       "1        0          PC 17599  71.2833   C85        C  \n",
       "2        0  STON/O2. 3101282   7.9250   NaN        S  \n",
       "3        0            113803  53.1000  C123        S  \n",
       "4        0            373450   8.0500   NaN        S  \n",
       "..     ...               ...      ...   ...      ...  \n",
       "886      0            211536  13.0000   NaN        S  \n",
       "887      0            112053  30.0000   B42        S  \n",
       "888      2        W./C. 6607  23.4500   NaN        S  \n",
       "889      0            111369  30.0000  C148        C  \n",
       "890      0            370376   7.7500   NaN        Q  \n",
       "\n",
       "[891 rows x 12 columns]"
      ]
     },
     "execution_count": 4,
     "metadata": {},
     "output_type": "execute_result"
    }
   ],
   "source": [
    "# Load the Titanic data set (dft: data frame titanic)\n",
    "dft = pd.read_csv(\"../data/titanic.csv\")\n",
    "\n",
    "# If you're running this notebook on Google Colab, comment out the line above and uncomment the line below to load the data file from Github:\n",
    "# dft = pd.read_csv(\"https://raw.githubusercontent.com/AIM-MADS-DATEXP/workshop-data-visualization/refs/heads/main/data/titanic.csv\")\n",
    "\n",
    "# We know there are missing values in the data set. This will cause problems later. For now fill them with the average value for the columns in question\n",
    "dft['Age'].fillna(dft['Age'].mean())\n",
    "dft"
   ]
  },
  {
   "cell_type": "markdown",
   "metadata": {},
   "source": [
    "## Using plots to learn about central tendencies\n",
    "\n",
    "The first thing we want to do when provided with a new data set is get a feel for what it contains. A good way to do this is to take a look at the distribution of the variables we're interested. This will tell us which of the measures for the central tendencies of our data are actually useful. Measures for central tendencies are the mean, mode and median. Related measures like variance and spread can also be useful.\n"
   ]
  },
  {
   "cell_type": "markdown",
   "metadata": {},
   "source": [
    "### Examining our data by drawing histograms\n",
    "\n",
    "Before we calculate these measures, we need to plot some graphs. These will help us determine which measures are actually useful for our data.\n",
    "\n",
    "**Note**: every plot, even an exploratory one like this, should have the title, xlabel and ylabel set.\n",
    "\n",
    "Here is an example of a histogram plot:\n"
   ]
  },
  {
   "cell_type": "code",
   "execution_count": 5,
   "metadata": {},
   "outputs": [
    {
     "data": {
      "image/png": "[encoded data removed]",
      "text/plain": [
       "<Figure size 640x480 with 1 Axes>"
      ]
     },
     "metadata": {},
     "output_type": "display_data"
    }
   ],
   "source": [
    "# Example: plot the \"Fare\" column in 10 bins\n",
    "dft['Fare'].plot.hist(bins=10, title=\"Distribution of the 'Fares' column\", xlabel=\"Fare\", ylabel=\"Frequency\", rwidth=0.9)\n",
    "plt.show() # Always run this code after drawing a plot - it will get rid of some ugly Matplotlib output"
   ]
  },
  {
   "cell_type": "markdown",
   "metadata": {},
   "source": [
    "Now do it yourself. Plot the \"Age\" column. Experiment with different values for the bins parameter. Start with 3, then do 5, 10, 15, 20 and 30. And, why not, try 50.\n",
    "- Which values for the bins parameter are the most useful? \n",
    "- Can you see a story unfolding about the passengers of the Titanic as the value of the bins parameter increases?\n",
    "- As you increase the value of the bins parameter, something interesting happens between the ages of 20 and 30. Is this interesting phenomenon actually meaningful? Why (not)? "
   ]
  },
  {
   "cell_type": "code",
   "execution_count": null,
   "metadata": {},
   "outputs": [],
   "source": [
    "# Your code goes here."
   ]
  },
  {
   "cell_type": "markdown",
   "metadata": {},
   "source": [
    "### Examining data sets using box plots\n",
    "\n",
    "The histogram will have told you the age distribution of the Titanic's passengers is skewed (why do you think that is?).\n",
    "\n",
    "Another plot type that is often used to detect skew is the box plot.\n",
    "\n",
    "Here is an example of a box plot for the \"Fare\" variable"
   ]
  },
  {
   "cell_type": "code",
   "execution_count": null,
   "metadata": {},
   "outputs": [
    {
     "data": {
      "image/png": "[encoded data removed]",
      "text/plain": [
       "<Figure size 640x480 with 1 Axes>"
      ]
     },
     "metadata": {},
     "output_type": "display_data"
    }
   ],
   "source": [
    "dft['Fare'].plot.box(title = \"Fare (distribution)\", xlabel = \"\", ylabel=\"Fare\")\n",
    "plt.show()"
   ]
  },
  {
   "cell_type": "markdown",
   "metadata": {},
   "source": [
    "The box shows the value of the \"Fare\" variable between de 25th percentile and the 75th percentile. The part of the box below the horizontal line inside the box contains the 25th percentile to the 50th percentile and the part of the box above the horizontal line contains the 50th to th 75th percentile. The line below the box shows where the 0th percentile starts and the line above the box shows where the 100th percentile stops. The circles show outliers.\n",
    "\n",
    "The horizontal line inside the box shows the middle value in the distribution of values: the median.\n",
    "\n",
    "This box plot tells us the distribution of fares is skewed: half of the passengers paid a comparatively low fare. A few passengers paid a lot. (Notice the histogram for the \"Fare\" variable also told us this)."
   ]
  },
  {
   "cell_type": "markdown",
   "metadata": {},
   "source": [
    "Now do it yourself. Make a box plot for the \"Age\" column. How does this box plot compare to the box plot for the \"Fare\" column?"
   ]
  },
  {
   "cell_type": "code",
   "execution_count": null,
   "metadata": {},
   "outputs": [],
   "source": [
    "# Your code goes here"
   ]
  },
  {
   "cell_type": "markdown",
   "metadata": {},
   "source": [
    "### Calculating some numbers\n",
    "\n",
    "Once we have a feel for the distribution of our data, we can calculate some numbers (mean, median, mode and standard deviation / variance).\n",
    "\n",
    "Here is example code for the \"Fare\" variable:"
   ]
  },
  {
   "cell_type": "code",
   "execution_count": null,
   "metadata": {},
   "outputs": [
    {
     "data": {
      "text/plain": [
       "np.float64(32.204207968574636)"
      ]
     },
     "execution_count": 223,
     "metadata": {},
     "output_type": "execute_result"
    }
   ],
   "source": [
    "# The mean. How useful is this, given what you know about the distribution of the data?\n",
    "dft['Fare'].mean() \n"
   ]
  },
  {
   "cell_type": "code",
   "execution_count": null,
   "metadata": {},
   "outputs": [
    {
     "data": {
      "text/plain": [
       "np.float64(14.4542)"
      ]
     },
     "execution_count": 44,
     "metadata": {},
     "output_type": "execute_result"
    }
   ],
   "source": [
    "# The median. How useful is this measure compared to the mean for this data?\n",
    "dft['Fare'].median()"
   ]
  },
  {
   "cell_type": "code",
   "execution_count": null,
   "metadata": {},
   "outputs": [
    {
     "data": {
      "text/plain": [
       "0    8.05\n",
       "Name: Fare, dtype: float64"
      ]
     },
     "execution_count": 45,
     "metadata": {},
     "output_type": "execute_result"
    }
   ],
   "source": [
    "# The mode. Notice the output of this function is a data frame containing, in this case, one entry. Sometimes a distribution has multiple modes.\n",
    "dft['Fare'].mode()"
   ]
  },
  {
   "cell_type": "code",
   "execution_count": null,
   "metadata": {},
   "outputs": [
    {
     "data": {
      "text/plain": [
       "0    2\n",
       "1    5\n",
       "Name: Silly, dtype: int64"
      ]
     },
     "execution_count": 97,
     "metadata": {},
     "output_type": "execute_result"
    }
   ],
   "source": [
    "# Aside: the mode is an array because data sets with multiple modes exist. Here is a silly example:\n",
    "dfsilly = pd.DataFrame({'Silly' : [0, 1, 2, 2, 2, 3, 4, 5, 5, 5, 6, 7, 8, 9]})\n",
    "dfsilly['Silly'].mode()\n"
   ]
  },
  {
   "cell_type": "code",
   "execution_count": null,
   "metadata": {},
   "outputs": [
    {
     "data": {
      "text/plain": [
       "np.float64(8.05)"
      ]
     },
     "execution_count": 106,
     "metadata": {},
     "output_type": "execute_result"
    }
   ],
   "source": [
    "# As mode is an array, to get the first mode you simply do:\n",
    "dft['Fare'].mode()[0]\n",
    "# But notice this is only valid if there really is only one mode."
   ]
  },
  {
   "cell_type": "code",
   "execution_count": null,
   "metadata": {},
   "outputs": [
    {
     "data": {
      "text/plain": [
       "np.float64(49.6934285971809)"
      ]
     },
     "execution_count": 99,
     "metadata": {},
     "output_type": "execute_result"
    }
   ],
   "source": [
    "# The standard deviation. What does this value tell us about the distribution of this variable (hint: look at the value of the mean)?\n",
    "dft['Fare'].std()"
   ]
  },
  {
   "cell_type": "markdown",
   "metadata": {},
   "source": [
    "Now do it yourself: calculate values for the \"Age\" variable. Given what you have learned about the distribution from the plots you made earlier, what do these values mean? And which of these measures for the central tendency are actually useful?"
   ]
  },
  {
   "cell_type": "code",
   "execution_count": null,
   "metadata": {},
   "outputs": [],
   "source": [
    "# Your code goes here.\n"
   ]
  },
  {
   "cell_type": "markdown",
   "metadata": {},
   "source": [
    "## Using boxplots to compare samples\n",
    "\n",
    "Until now we have been using plots to tell us something about a single set of numbers. While this is helpful, we can do so much more with them. For example, we can use them to find out if there are differences between populations.\n",
    "\n",
    "In this next part of the workshop, we are going to compare young passengers on the Titanic to old passengers."
   ]
  },
  {
   "cell_type": "markdown",
   "metadata": {},
   "source": [
    "### Multiple plots on the same plot\n",
    "\n",
    "The plotting library we use, matplotlib, allows us to combine multiple plots on the same plot. Doing this is a bit involved, unfortunately, but once you get the hang of it it's not too bad.\n",
    "\n",
    "For this example we're going to do something a bit sad: we are going to split up the passengers on the Titanic into those that survived and those that did not."
   ]
  },
  {
   "cell_type": "code",
   "execution_count": null,
   "metadata": {},
   "outputs": [],
   "source": [
    "# Note how we filter out those records where the \"Survived\" variable has a specific value\n",
    "dfsurvived = dft[dft['Survived'] == 1] \n",
    "dfperished = dft[dft['Survived'] == 0]\n"
   ]
  },
  {
   "cell_type": "markdown",
   "metadata": {},
   "source": [
    "Next, we're going to set up a plot object."
   ]
  },
  {
   "cell_type": "code",
   "execution_count": null,
   "metadata": {},
   "outputs": [
    {
     "data": {
      "image/png": "[encoded data removed]",
      "text/plain": [
       "<Figure size 640x480 with 1 Axes>"
      ]
     },
     "metadata": {},
     "output_type": "display_data"
    }
   ],
   "source": [
    "# First we need to tell Matplotlib we want to create multiple plots on the same plot.\n",
    "# ax is the variable that will let us draw subplots\n",
    "fig, ax = plt.subplots()\n",
    "\n",
    "# For each boxplot we need to set the position. \n",
    "# Position is an array of values, even if it only contains a single value.\n",
    "# Outliers have been removed by setting showfliers to false.\n",
    "# This makes the graph more readable (also, we already know there are outliers).\n",
    "ax.boxplot(dfsurvived['Fare'], positions = [1], showfliers = False)\n",
    "ax.boxplot(dfperished['Fare'], positions = [2], showfliers = False)\n",
    "# Explicitly set the labels for the two boxplots.\n",
    "ax.set_xticklabels(['Survived', 'Perished'])\n",
    "# Set the label and the title.\n",
    "ax.set_ylabel(\"Fare\")\n",
    "ax.set_title(\"Fares survived vs perished\")\n",
    "\n",
    "# Finally we must explicitly show our plot.\n",
    "plt.show()\n"
   ]
  },
  {
   "cell_type": "markdown",
   "metadata": {},
   "source": [
    "Oof. Likely to nobody's great surprise we find the very richest Titanic passengers had a much better chance of survival than the poorer passengers (we assume that passengers that could afford higher fares are richer than those that paid a cheaper fare)."
   ]
  },
  {
   "cell_type": "markdown",
   "metadata": {},
   "source": [
    "### Try it yourself\n",
    "\n",
    "Can you do the same thing, but comparing the ages of those that survived and those that died?"
   ]
  },
  {
   "cell_type": "code",
   "execution_count": null,
   "metadata": {},
   "outputs": [],
   "source": [
    "# Your code goes here\n",
    "\n",
    "\n"
   ]
  },
  {
   "cell_type": "markdown",
   "metadata": {},
   "source": [
    "At first glance, there seems to be no great difference, although you could perhaps say something about \"women and children first\"? (We'll revisit this question below)"
   ]
  },
  {
   "cell_type": "markdown",
   "metadata": {},
   "source": [
    "## Scatterplots\n",
    "\n",
    "So far we have examined our data using histograms and boxplots. There are, however, other plot types we could use to tell us about our data. The scatter plot is one such type. It can be used to plot two variabels against each other to see if there is a relationship between them.\n",
    "\n",
    "Below is a scatterplot that shows passenger age vs the fare paid. Passengers are separated into two different classes: those that survived and those that did not.\n",
    "\n",
    "**Note**: in the code below each data set that was plotted was given its own color. Also, the alpha (transparency) was set to make it easier to show overlapping values.\n",
    "\n"
   ]
  },
  {
   "cell_type": "code",
   "execution_count": null,
   "metadata": {},
   "outputs": [
    {
     "data": {
      "image/png": "[encoded data removed]",
      "text/plain": [
       "<Figure size 640x480 with 1 Axes>"
      ]
     },
     "metadata": {},
     "output_type": "display_data"
    }
   ],
   "source": [
    "\n",
    "fig, ax = plt.subplots()\n",
    "plt.scatter(dfsurvived['Age'], dfsurvived['Fare'], color='darkblue', alpha = 0.5)\n",
    "plt.scatter(dfperished['Age'], dfperished['Fare'], color='lightblue', alpha = 0.5)\n",
    "\n",
    "ax.set_title(\"Age vs fare, survivors vs perished\")\n",
    "ax.set_ylabel(\"Fare\")\n",
    "ax.set_xlabel(\"Age\")\n",
    "ax.legend([\"Survived\", \"Perished\"])\n",
    "\n",
    "plt.show()"
   ]
  },
  {
   "cell_type": "markdown",
   "metadata": {},
   "source": [
    "Looking at the plot, we see some interesting things:\n",
    "- It looks like higher fare passengers may have survived more often.\n",
    "- There are some clear outliers in the data.\n",
    "\n",
    "Perhaps it would be useful to remove the outliers and take a look at a scatterplot for the remaining passengers.\n",
    "\n",
    "Filtering outliers works the same as filtering out passengers that survived. Use `>` and `<` to filter values that are greater or smaller than a given value.\n",
    "\n",
    "To filter a data frame by multiple conditions you can to use the \"loc\" method.\n",
    "\n",
    "Here is an example:\n",
    "\n",
    "```python\n",
    "dftclean.loc[(dftclean['Fare'] < 200) & (dftclean['Age'] < 60)]\n",
    "```\n",
    "\n"
   ]
  },
  {
   "cell_type": "code",
   "execution_count": null,
   "metadata": {},
   "outputs": [],
   "source": [
    "# Your code goes here\n"
   ]
  },
  {
   "cell_type": "markdown",
   "metadata": {},
   "source": [
    "## Women and children first?\n",
    "\n",
    "For the final assignment in this workshop, use what you learned above to find out whether women and children were more likely to survive the Titanic disaster.\n",
    "\n",
    "You will have to get a bit creative with colors and transparency to make the effect visible. Also, while you might not actually be interested in the relationship between fare and age, plotting them against each other nevertheless is useful as it helps spread out the data points so they're easier to see.\n"
   ]
  },
  {
   "cell_type": "code",
   "execution_count": null,
   "metadata": {},
   "outputs": [],
   "source": [
    "# Your code goes here"
   ]
  }
 ],
 "metadata": {
  "kernelspec": {
   "display_name": ".venv",
   "language": "python",
   "name": "python3"
  },
  "language_info": {
   "codemirror_mode": {
    "name": "ipython",
    "version": 3
   },
   "file_extension": ".py",
   "mimetype": "text/x-python",
   "name": "python",
   "nbconvert_exporter": "python",
   "pygments_lexer": "ipython3",
   "version": "3.13.0"
  }
 },
 "nbformat": 4,
 "nbformat_minor": 2
}
